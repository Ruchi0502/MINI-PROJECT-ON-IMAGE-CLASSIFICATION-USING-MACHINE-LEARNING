{
  "nbformat": 4,
  "nbformat_minor": 0,
  "metadata": {
    "colab": {
      "name": "Image Classification.ipynb",
      "provenance": [],
      "collapsed_sections": []
    },
    "kernelspec": {
      "name": "python3",
      "display_name": "Python 3"
    },
    "language_info": {
      "name": "python"
    }
  },
  "cells": [
    {
      "cell_type": "code",
      "metadata": {
        "colab": {
          "base_uri": "https://localhost:8080/"
        },
        "id": "UnisWWP5w9Qc",
        "outputId": "955afa5e-c088-4f6c-ee89-e0f7310252d4"
      },
      "source": [
        "!pip install ipython-autotime\n",
        "%load_ext autotime"
      ],
      "execution_count": 6,
      "outputs": [
        {
          "output_type": "stream",
          "text": [
            "Collecting ipython-autotime\n",
            "  Downloading https://files.pythonhosted.org/packages/b4/c9/b413a24f759641bc27ef98c144b590023c8038dfb8a3f09e713e9dff12c1/ipython_autotime-0.3.1-py2.py3-none-any.whl\n",
            "Requirement already satisfied: ipython in /usr/local/lib/python3.7/dist-packages (from ipython-autotime) (5.5.0)\n",
            "Requirement already satisfied: pickleshare in /usr/local/lib/python3.7/dist-packages (from ipython->ipython-autotime) (0.7.5)\n",
            "Requirement already satisfied: decorator in /usr/local/lib/python3.7/dist-packages (from ipython->ipython-autotime) (4.4.2)\n",
            "Requirement already satisfied: prompt-toolkit<2.0.0,>=1.0.4 in /usr/local/lib/python3.7/dist-packages (from ipython->ipython-autotime) (1.0.18)\n",
            "Requirement already satisfied: setuptools>=18.5 in /usr/local/lib/python3.7/dist-packages (from ipython->ipython-autotime) (56.0.0)\n",
            "Requirement already satisfied: traitlets>=4.2 in /usr/local/lib/python3.7/dist-packages (from ipython->ipython-autotime) (5.0.5)\n",
            "Requirement already satisfied: simplegeneric>0.8 in /usr/local/lib/python3.7/dist-packages (from ipython->ipython-autotime) (0.8.1)\n",
            "Requirement already satisfied: pexpect; sys_platform != \"win32\" in /usr/local/lib/python3.7/dist-packages (from ipython->ipython-autotime) (4.8.0)\n",
            "Requirement already satisfied: pygments in /usr/local/lib/python3.7/dist-packages (from ipython->ipython-autotime) (2.6.1)\n",
            "Requirement already satisfied: wcwidth in /usr/local/lib/python3.7/dist-packages (from prompt-toolkit<2.0.0,>=1.0.4->ipython->ipython-autotime) (0.2.5)\n",
            "Requirement already satisfied: six>=1.9.0 in /usr/local/lib/python3.7/dist-packages (from prompt-toolkit<2.0.0,>=1.0.4->ipython->ipython-autotime) (1.15.0)\n",
            "Requirement already satisfied: ipython-genutils in /usr/local/lib/python3.7/dist-packages (from traitlets>=4.2->ipython->ipython-autotime) (0.2.0)\n",
            "Requirement already satisfied: ptyprocess>=0.5 in /usr/local/lib/python3.7/dist-packages (from pexpect; sys_platform != \"win32\"->ipython->ipython-autotime) (0.7.0)\n",
            "Installing collected packages: ipython-autotime\n",
            "Successfully installed ipython-autotime-0.3.1\n",
            "time: 1.04 ms (started: 2021-04-29 13:15:18 +00:00)\n"
          ],
          "name": "stdout"
        }
      ]
    },
    {
      "cell_type": "code",
      "metadata": {
        "colab": {
          "base_uri": "https://localhost:8080/"
        },
        "id": "ADnc_mJEY3YS",
        "outputId": "9c7388c5-7b6c-4047-8e73-b2e5f90ad012"
      },
      "source": [
        "!pip install bing-image-downloader"
      ],
      "execution_count": 1,
      "outputs": [
        {
          "output_type": "stream",
          "text": [
            "Collecting bing-image-downloader\n",
            "  Downloading https://files.pythonhosted.org/packages/0d/bf/537a61030b84ae4cd5022d5c7b014fd9bc3ce7c02358919153a6658a61d3/bing_image_downloader-1.0.4-py3-none-any.whl\n",
            "Installing collected packages: bing-image-downloader\n",
            "Successfully installed bing-image-downloader-1.0.4\n"
          ],
          "name": "stdout"
        }
      ]
    },
    {
      "cell_type": "code",
      "metadata": {
        "id": "pLGRD1APlhOj"
      },
      "source": [
        "!mkdir images"
      ],
      "execution_count": 2,
      "outputs": []
    },
    {
      "cell_type": "code",
      "metadata": {
        "colab": {
          "base_uri": "https://localhost:8080/"
        },
        "id": "BP6nQGEFlpMk",
        "outputId": "a097014f-a804-4ff5-8526-cc9e5c8e0cfe"
      },
      "source": [
        "from bing_image_downloader import downloader\n",
        "downloader.download(\"beautiful roses\", limit = 30, output_dir='images', adult_filter_off = True)"
      ],
      "execution_count": 3,
      "outputs": [
        {
          "output_type": "stream",
          "text": [
            "\n",
            "\n",
            "[!!]Indexing page: 1\n",
            "\n",
            "[%] Indexed 12 Images on Page 1.\n",
            "\n",
            "===============================================\n",
            "\n",
            "[%] Downloading Image #1 from https://images.freecreatives.com/wp-content/uploads/2015/03/f20-paintings-of-flowers.jpg\n",
            "[%] File Downloaded !\n",
            "\n",
            "[%] Downloading Image #2 from https://www.hdwallpapers.in/download/giant_four_oclock_flowers-1152x864.jpg\n",
            "[%] File Downloaded !\n",
            "\n",
            "[%] Downloading Image #3 from http://www.florissa.com/wp-content/uploads/2017/05/Hosta-tardiana-Halcyon-instagram.jpg\n",
            "[%] File Downloaded !\n",
            "\n",
            "[%] Downloading Image #4 from http://www.hdwallpapers.in/download/bright_white_flower-1152x864.jpg\n",
            "[%] File Downloaded !\n",
            "\n",
            "[%] Downloading Image #5 from http://www.samanthasbell.com/wp-content/uploads/2020/04/IMG-68bee51dfbdd6e59b1b25e69491fe7e3-V1-760x1059.jpg\n",
            "[%] File Downloaded !\n",
            "\n",
            "[%] Downloading Image #6 from https://www.parfumflowercompany.com/wp-content/uploads/2016/07/Premium-Scented-Rose-Lady-Killer-001.png\n",
            "[%] File Downloaded !\n",
            "\n",
            "[%] Downloading Image #7 from https://i.pinimg.com/736x/9b/42/ad/9b42ad4dfea114b9f69637ebb5260b04.jpg\n",
            "[%] File Downloaded !\n",
            "\n",
            "[%] Downloading Image #8 from https://thestyleup.com/wp-content/uploads/2015/03/elbow_tattoos_41.jpg\n",
            "[%] File Downloaded !\n",
            "\n",
            "[%] Downloading Image #9 from https://thegraphicsfairy.com/wp-content/uploads/2012/09/Cannas-Flamingo-GraphicsFairy21.jpg\n",
            "[%] File Downloaded !\n",
            "\n",
            "[%] Downloading Image #10 from https://www.parfumflowercompany.com/wp-content/uploads/2015/10/Cream-Yves-Piaget-006.jpg\n",
            "[%] File Downloaded !\n",
            "\n",
            "[%] Downloading Image #11 from http://www.beesdiy.com/wp-content/uploads/2015/10/DIY-Floating-Candle-Centerpiece-tutorial8.jpg\n",
            "[%] File Downloaded !\n",
            "\n",
            "[%] Downloading Image #12 from https://i.pinimg.com/736x/a2/33/d1/a233d15d7991be6bceb0e45cbe704ed4.jpg\n",
            "[%] File Downloaded !\n",
            "\n",
            "\n",
            "\n",
            "[!!]Indexing page: 2\n",
            "\n",
            "[%] Indexed 12 Images on Page 2.\n",
            "\n",
            "===============================================\n",
            "\n",
            "[%] Downloading Image #13 from https://images.freecreatives.com/wp-content/uploads/2015/03/f20-paintings-of-flowers.jpg\n",
            "[%] File Downloaded !\n",
            "\n",
            "[%] Downloading Image #14 from https://www.hdwallpapers.in/download/giant_four_oclock_flowers-1152x864.jpg\n",
            "[%] File Downloaded !\n",
            "\n",
            "[%] Downloading Image #15 from http://www.florissa.com/wp-content/uploads/2017/05/Hosta-tardiana-Halcyon-instagram.jpg\n",
            "[%] File Downloaded !\n",
            "\n",
            "[%] Downloading Image #16 from http://www.hdwallpapers.in/download/bright_white_flower-1152x864.jpg\n",
            "[%] File Downloaded !\n",
            "\n",
            "[%] Downloading Image #17 from http://www.samanthasbell.com/wp-content/uploads/2020/04/IMG-68bee51dfbdd6e59b1b25e69491fe7e3-V1-760x1059.jpg\n",
            "[%] File Downloaded !\n",
            "\n",
            "[%] Downloading Image #18 from https://www.parfumflowercompany.com/wp-content/uploads/2016/07/Premium-Scented-Rose-Lady-Killer-001.png\n",
            "[%] File Downloaded !\n",
            "\n",
            "[%] Downloading Image #19 from https://i.pinimg.com/736x/9b/42/ad/9b42ad4dfea114b9f69637ebb5260b04.jpg\n",
            "[%] File Downloaded !\n",
            "\n",
            "[%] Downloading Image #20 from https://thestyleup.com/wp-content/uploads/2015/03/elbow_tattoos_41.jpg\n",
            "[%] File Downloaded !\n",
            "\n",
            "[%] Downloading Image #21 from https://thegraphicsfairy.com/wp-content/uploads/2012/09/Cannas-Flamingo-GraphicsFairy21.jpg\n",
            "[%] File Downloaded !\n",
            "\n",
            "[%] Downloading Image #22 from https://www.parfumflowercompany.com/wp-content/uploads/2015/10/Cream-Yves-Piaget-006.jpg\n",
            "[%] File Downloaded !\n",
            "\n",
            "[%] Downloading Image #23 from http://www.beesdiy.com/wp-content/uploads/2015/10/DIY-Floating-Candle-Centerpiece-tutorial8.jpg\n",
            "[%] File Downloaded !\n",
            "\n",
            "[%] Downloading Image #24 from https://i.pinimg.com/736x/a2/33/d1/a233d15d7991be6bceb0e45cbe704ed4.jpg\n",
            "[%] File Downloaded !\n",
            "\n",
            "\n",
            "\n",
            "[!!]Indexing page: 3\n",
            "\n",
            "[%] Indexed 11 Images on Page 3.\n",
            "\n",
            "===============================================\n",
            "\n",
            "[%] Downloading Image #25 from http://www.hdwallpapers.in/download/bright_white_flower-1152x864.jpg\n",
            "[%] File Downloaded !\n",
            "\n",
            "[%] Downloading Image #26 from https://www.hdwallpapers.in/download/giant_four_oclock_flowers-1152x864.jpg\n",
            "[%] File Downloaded !\n",
            "\n",
            "[%] Downloading Image #27 from http://www.florissa.com/wp-content/uploads/2017/05/Hosta-tardiana-Halcyon-instagram.jpg\n",
            "[%] File Downloaded !\n",
            "\n",
            "[%] Downloading Image #28 from https://i.pinimg.com/736x/9b/42/ad/9b42ad4dfea114b9f69637ebb5260b04.jpg\n",
            "[%] File Downloaded !\n",
            "\n",
            "[%] Downloading Image #29 from https://www.parfumflowercompany.com/wp-content/uploads/2016/07/Premium-Scented-Rose-Lady-Killer-001.png\n",
            "[%] File Downloaded !\n",
            "\n",
            "[%] Downloading Image #30 from https://thegraphicsfairy.com/wp-content/uploads/2012/09/Cannas-Flamingo-GraphicsFairy21.jpg\n",
            "[%] File Downloaded !\n",
            "\n",
            "\n",
            "\n",
            "[%] Done. Downloaded 30 images.\n",
            "\n",
            "===============================================\n",
            "\n"
          ],
          "name": "stdout"
        }
      ]
    },
    {
      "cell_type": "code",
      "metadata": {
        "colab": {
          "base_uri": "https://localhost:8080/"
        },
        "id": "51SYQ7Yru7pa",
        "outputId": "3496bfa1-60c7-4c78-b208-d7199bcb5549"
      },
      "source": [
        "downloader.download(\"badminton rackets\", limit = 30, output_dir='images', adult_filter_off = True)"
      ],
      "execution_count": 4,
      "outputs": [
        {
          "output_type": "stream",
          "text": [
            "\n",
            "\n",
            "[!!]Indexing page: 1\n",
            "\n",
            "[%] Indexed 13 Images on Page 1.\n",
            "\n",
            "===============================================\n",
            "\n",
            "[%] Downloading Image #1 from https://isportsweb.com/wp-content/uploads/2018/05/Best-Badminton-Rackets.jpg\n",
            "[%] File Downloaded !\n",
            "\n",
            "[%] Downloading Image #2 from https://www.tennisnuts.com/images/product/full/duora-z-strike-racket.jpg\n",
            "[%] File Downloaded !\n",
            "\n",
            "[%] Downloading Image #3 from https://i2.wp.com/spyn.co/blog/wp-content/uploads/Badminton-Smash.jpg?fit=1600%2C900&amp;ssl=1\n",
            "[%] File Downloaded !\n",
            "\n",
            "[%] Downloading Image #4 from https://www.badmintonmaster.com/wp-content/uploads/2019/12/badminton-racket-close-up-picjumbo-com-1024x683.jpg\n",
            "[%] File Downloaded !\n",
            "\n",
            "[%] Downloading Image #5 from https://cdn.architecturendesign.net/wp-content/uploads/2016/04/AD-Amazing-Embroidery-Art-15-1.jpg\n",
            "[%] File Downloaded !\n",
            "\n",
            "[%] Downloading Image #6 from https://www.badmintonmonthly.com/wp-content/uploads/history-1024x640.jpg\n",
            "[%] File Downloaded !\n",
            "\n",
            "[%] Downloading Image #7 from https://www.badmintonmonthly.com/wp-content/uploads/badminton-definition-1024x536.jpg\n",
            "[%] File Downloaded !\n",
            "\n",
            "[%] Downloading Image #8 from https://www.thebadmintonguide.com/wp-content/uploads/2020/02/Badminton-court-measurements-in-meters-724x1024.jpg\n",
            "[%] File Downloaded !\n",
            "\n",
            "[%] Downloading Image #9 from http://cdn.onlinewebfonts.com/svg/download_531194.png\n",
            "[%] File Downloaded !\n",
            "\n",
            "[%] Downloading Image #10 from https://3wzg8qiyzny9y6bq30prqzvd-wpengine.netdna-ssl.com/wp-content/uploads/2016/05/sta.png\n",
            "[%] File Downloaded !\n",
            "\n",
            "[%] Downloading Image #11 from http://sg.victorsport.com/files/idc/upload/images/Badminton Coaching/Training/Training_VICTOR_badminton_coaching_2013100303.gif\n",
            "[!] Issue getting: http://sg.victorsport.com/files/idc/upload/images/Badminton Coaching/Training/Training_VICTOR_badminton_coaching_2013100303.gif\n",
            "[!] Error:: URL can't contain control characters. '/files/idc/upload/images/Badminton Coaching/Training/Training_VICTOR_badminton_coaching_2013100303.gif' (found at least ' ')\n",
            "[%] Downloading Image #11 from https://www.bing.com/th/id/OGC.889dd7406361323242fd7e75cdcd711e?pid=1.7&amp;rurl=http%3a%2f%2fsg.victorsport.com%2ffiles%2fidc%2fupload%2fimages%2fBadminton+Coaching%2fTraining%2fTraining_VICTOR_badminton_coaching_2013100303.gif&amp;ehk=fx%2bBIk5AN77vDZ8D8WHIWZTDCTVaxCsdXMqo6r3eQ5U%3d\n",
            "[!] Issue getting: https://www.bing.com/th/id/OGC.889dd7406361323242fd7e75cdcd711e?pid=1.7&amp;rurl=http%3a%2f%2fsg.victorsport.com%2ffiles%2fidc%2fupload%2fimages%2fBadminton+Coaching%2fTraining%2fTraining_VICTOR_badminton_coaching_2013100303.gif&amp;ehk=fx%2bBIk5AN77vDZ8D8WHIWZTDCTVaxCsdXMqo6r3eQ5U%3d\n",
            "[!] Error:: HTTP Error 404: Not Found\n",
            "[%] Downloading Image #11 from https://blog.playo.co/wp-content/uploads/2017/03/beach-volleyball.jpg\n",
            "[%] File Downloaded !\n",
            "\n",
            "\n",
            "\n",
            "[!!]Indexing page: 2\n",
            "\n",
            "[%] Indexed 13 Images on Page 2.\n",
            "\n",
            "===============================================\n",
            "\n",
            "[%] Downloading Image #12 from https://isportsweb.com/wp-content/uploads/2018/05/Best-Badminton-Rackets.jpg\n",
            "[%] File Downloaded !\n",
            "\n",
            "[%] Downloading Image #13 from https://www.tennisnuts.com/images/product/full/duora-z-strike-racket.jpg\n",
            "[%] File Downloaded !\n",
            "\n",
            "[%] Downloading Image #14 from https://i2.wp.com/spyn.co/blog/wp-content/uploads/Badminton-Smash.jpg?fit=1600%2C900&amp;ssl=1\n",
            "[%] File Downloaded !\n",
            "\n",
            "[%] Downloading Image #15 from https://www.badmintonmaster.com/wp-content/uploads/2019/12/badminton-racket-close-up-picjumbo-com-1024x683.jpg\n",
            "[%] File Downloaded !\n",
            "\n",
            "[%] Downloading Image #16 from https://cdn.architecturendesign.net/wp-content/uploads/2016/04/AD-Amazing-Embroidery-Art-15-1.jpg\n",
            "[%] File Downloaded !\n",
            "\n",
            "[%] Downloading Image #17 from https://www.badmintonmonthly.com/wp-content/uploads/history-1024x640.jpg\n",
            "[%] File Downloaded !\n",
            "\n",
            "[%] Downloading Image #18 from https://www.badmintonmonthly.com/wp-content/uploads/badminton-definition-1024x536.jpg\n",
            "[%] File Downloaded !\n",
            "\n",
            "[%] Downloading Image #19 from https://www.thebadmintonguide.com/wp-content/uploads/2020/02/Badminton-court-measurements-in-meters-724x1024.jpg\n",
            "[%] File Downloaded !\n",
            "\n",
            "[%] Downloading Image #20 from http://cdn.onlinewebfonts.com/svg/download_531194.png\n",
            "[%] File Downloaded !\n",
            "\n",
            "[%] Downloading Image #21 from https://3wzg8qiyzny9y6bq30prqzvd-wpengine.netdna-ssl.com/wp-content/uploads/2016/05/sta.png\n",
            "[%] File Downloaded !\n",
            "\n",
            "[%] Downloading Image #22 from http://sg.victorsport.com/files/idc/upload/images/Badminton Coaching/Training/Training_VICTOR_badminton_coaching_2013100303.gif\n",
            "[!] Issue getting: http://sg.victorsport.com/files/idc/upload/images/Badminton Coaching/Training/Training_VICTOR_badminton_coaching_2013100303.gif\n",
            "[!] Error:: URL can't contain control characters. '/files/idc/upload/images/Badminton Coaching/Training/Training_VICTOR_badminton_coaching_2013100303.gif' (found at least ' ')\n",
            "[%] Downloading Image #22 from https://www.bing.com/th/id/OGC.889dd7406361323242fd7e75cdcd711e?pid=1.7&amp;rurl=http%3a%2f%2fsg.victorsport.com%2ffiles%2fidc%2fupload%2fimages%2fBadminton+Coaching%2fTraining%2fTraining_VICTOR_badminton_coaching_2013100303.gif&amp;ehk=fx%2bBIk5AN77vDZ8D8WHIWZTDCTVaxCsdXMqo6r3eQ5U%3d\n",
            "[!] Issue getting: https://www.bing.com/th/id/OGC.889dd7406361323242fd7e75cdcd711e?pid=1.7&amp;rurl=http%3a%2f%2fsg.victorsport.com%2ffiles%2fidc%2fupload%2fimages%2fBadminton+Coaching%2fTraining%2fTraining_VICTOR_badminton_coaching_2013100303.gif&amp;ehk=fx%2bBIk5AN77vDZ8D8WHIWZTDCTVaxCsdXMqo6r3eQ5U%3d\n",
            "[!] Error:: HTTP Error 404: Not Found\n",
            "[%] Downloading Image #22 from https://blog.playo.co/wp-content/uploads/2017/03/beach-volleyball.jpg\n",
            "[%] File Downloaded !\n",
            "\n",
            "\n",
            "\n",
            "[!!]Indexing page: 3\n",
            "\n",
            "[%] Indexed 12 Images on Page 3.\n",
            "\n",
            "===============================================\n",
            "\n",
            "[%] Downloading Image #23 from https://www.tennisnuts.com/images/product/full/duora-z-strike-racket.jpg\n",
            "[%] File Downloaded !\n",
            "\n",
            "[%] Downloading Image #24 from https://i2.wp.com/spyn.co/blog/wp-content/uploads/Badminton-Smash.jpg?fit=1600%2C900&amp;ssl=1\n",
            "[%] File Downloaded !\n",
            "\n",
            "[%] Downloading Image #25 from https://www.badmintonmaster.com/wp-content/uploads/2019/12/badminton-racket-close-up-picjumbo-com-1024x683.jpg\n",
            "[%] File Downloaded !\n",
            "\n",
            "[%] Downloading Image #26 from https://cdn.architecturendesign.net/wp-content/uploads/2016/04/AD-Amazing-Embroidery-Art-15-1.jpg\n",
            "[%] File Downloaded !\n",
            "\n",
            "[%] Downloading Image #27 from https://www.badmintonmonthly.com/wp-content/uploads/history-1024x640.jpg\n",
            "[%] File Downloaded !\n",
            "\n",
            "[%] Downloading Image #28 from https://www.badmintonmonthly.com/wp-content/uploads/badminton-definition-1024x536.jpg\n",
            "[%] File Downloaded !\n",
            "\n",
            "[%] Downloading Image #29 from https://www.thebadmintonguide.com/wp-content/uploads/2020/02/Badminton-court-measurements-in-meters-724x1024.jpg\n",
            "[%] File Downloaded !\n",
            "\n",
            "[%] Downloading Image #30 from http://cdn.onlinewebfonts.com/svg/download_531194.png\n",
            "[%] File Downloaded !\n",
            "\n",
            "\n",
            "\n",
            "[%] Done. Downloaded 30 images.\n",
            "\n",
            "===============================================\n",
            "\n"
          ],
          "name": "stdout"
        }
      ]
    },
    {
      "cell_type": "code",
      "metadata": {
        "colab": {
          "base_uri": "https://localhost:8080/"
        },
        "id": "Pyy1tOr7wO__",
        "outputId": "f62a7470-1d59-4b04-f11d-7c37ddd94cee"
      },
      "source": [
        "downloader.download(\"toy cars\", limit = 30, output_dir='images', adult_filter_off = True)"
      ],
      "execution_count": 5,
      "outputs": [
        {
          "output_type": "stream",
          "text": [
            "\n",
            "\n",
            "[!!]Indexing page: 1\n",
            "\n",
            "[%] Indexed 12 Images on Page 1.\n",
            "\n",
            "===============================================\n",
            "\n",
            "[%] Downloading Image #1 from http://2.bp.blogspot.com/-WYqdJrE9tMU/TvJptgHG1bI/AAAAAAAAFHw/PFt37Tb9Abc/s1600/dub+car.jpg\n",
            "[%] File Downloaded !\n",
            "\n",
            "[%] Downloading Image #2 from http://images.nintendolife.com/screenshots/60532/large.jpg\n",
            "[%] File Downloaded !\n",
            "\n",
            "[%] Downloading Image #3 from http://i1.ytimg.com/vi/D5OUdHc3gpQ/maxresdefault.jpg\n",
            "[%] File Downloaded !\n",
            "\n",
            "[%] Downloading Image #4 from http://1.bp.blogspot.com/-NBjLSszx6RI/TWbgWSFXjhI/AAAAAAAAOjw/8W2XZpV9qFk/s1600/cully_Batmobiles_Mattel_and_Corgi_batman_toys.jpg\n",
            "[%] File Downloaded !\n",
            "\n",
            "[%] Downloading Image #5 from http://www.toyday.co.uk/shop/images/uploads/small_diecast_car.gif\n",
            "[%] File Downloaded !\n",
            "\n",
            "[%] Downloading Image #6 from http://1.bp.blogspot.com/-0RB1_yEhFEE/TxN40o2uZDI/AAAAAAAAAS4/SaMf4KIiFT8/s1600/Cars+and+Trucks-1.jpg\n",
            "[%] File Downloaded !\n",
            "\n",
            "[%] Downloading Image #7 from https://ww1.prweb.com/prfiles/2011/06/04/8531774/The Pixar Storyline 15x30.jpg\n",
            "[!] Issue getting: https://ww1.prweb.com/prfiles/2011/06/04/8531774/The Pixar Storyline 15x30.jpg\n",
            "[!] Error:: URL can't contain control characters. '/prfiles/2011/06/04/8531774/The Pixar Storyline 15x30.jpg' (found at least ' ')\n",
            "[%] Downloading Image #7 from http://i.ytimg.com/vi/Qrl9Z8TwkMI/maxresdefault.jpg\n",
            "[%] File Downloaded !\n",
            "\n",
            "[%] Downloading Image #8 from http://acimg.auctivacommerce.com/imgdata/0/1/9/3/9/7/webimg/3385474.jpg\n",
            "[%] File Downloaded !\n",
            "\n",
            "[%] Downloading Image #9 from https://www.mordeo.org/files/uploads/2019/06/Woody-In-Toy-Story-4-Animation-2019-4K-Ultra-HD-Mobile-Wallpaper.jpg\n",
            "[%] File Downloaded !\n",
            "\n",
            "[%] Downloading Image #10 from https://alqurumresort.com/img/monster-energy-monster-truck-toy.jpg\n",
            "[%] File Downloaded !\n",
            "\n",
            "[%] Downloading Image #11 from http://www.coloringpages.us/dump-truck-720.gif\n",
            "[!] Issue getting: http://www.coloringpages.us/dump-truck-720.gif\n",
            "[!] Error:: <urlopen error [Errno -5] No address associated with hostname>\n",
            "\n",
            "\n",
            "[!!]Indexing page: 2\n",
            "\n",
            "[%] Indexed 12 Images on Page 2.\n",
            "\n",
            "===============================================\n",
            "\n",
            "[%] Downloading Image #11 from http://2.bp.blogspot.com/-WYqdJrE9tMU/TvJptgHG1bI/AAAAAAAAFHw/PFt37Tb9Abc/s1600/dub+car.jpg\n",
            "[%] File Downloaded !\n",
            "\n",
            "[%] Downloading Image #12 from http://images.nintendolife.com/screenshots/60532/large.jpg\n",
            "[%] File Downloaded !\n",
            "\n",
            "[%] Downloading Image #13 from http://i1.ytimg.com/vi/D5OUdHc3gpQ/maxresdefault.jpg\n",
            "[%] File Downloaded !\n",
            "\n",
            "[%] Downloading Image #14 from http://1.bp.blogspot.com/-NBjLSszx6RI/TWbgWSFXjhI/AAAAAAAAOjw/8W2XZpV9qFk/s1600/cully_Batmobiles_Mattel_and_Corgi_batman_toys.jpg\n",
            "[%] File Downloaded !\n",
            "\n",
            "[%] Downloading Image #15 from http://www.toyday.co.uk/shop/images/uploads/small_diecast_car.gif\n",
            "[%] File Downloaded !\n",
            "\n",
            "[%] Downloading Image #16 from http://1.bp.blogspot.com/-0RB1_yEhFEE/TxN40o2uZDI/AAAAAAAAAS4/SaMf4KIiFT8/s1600/Cars+and+Trucks-1.jpg\n",
            "[%] File Downloaded !\n",
            "\n",
            "[%] Downloading Image #17 from https://ww1.prweb.com/prfiles/2011/06/04/8531774/The Pixar Storyline 15x30.jpg\n",
            "[!] Issue getting: https://ww1.prweb.com/prfiles/2011/06/04/8531774/The Pixar Storyline 15x30.jpg\n",
            "[!] Error:: URL can't contain control characters. '/prfiles/2011/06/04/8531774/The Pixar Storyline 15x30.jpg' (found at least ' ')\n",
            "[%] Downloading Image #17 from http://i.ytimg.com/vi/Qrl9Z8TwkMI/maxresdefault.jpg\n",
            "[%] File Downloaded !\n",
            "\n",
            "[%] Downloading Image #18 from http://acimg.auctivacommerce.com/imgdata/0/1/9/3/9/7/webimg/3385474.jpg\n",
            "[%] File Downloaded !\n",
            "\n",
            "[%] Downloading Image #19 from https://www.mordeo.org/files/uploads/2019/06/Woody-In-Toy-Story-4-Animation-2019-4K-Ultra-HD-Mobile-Wallpaper.jpg\n",
            "[%] File Downloaded !\n",
            "\n",
            "[%] Downloading Image #20 from https://alqurumresort.com/img/monster-energy-monster-truck-toy.jpg\n",
            "[%] File Downloaded !\n",
            "\n",
            "[%] Downloading Image #21 from http://www.coloringpages.us/dump-truck-720.gif\n",
            "[%] File Downloaded !\n",
            "\n",
            "\n",
            "\n",
            "[!!]Indexing page: 3\n",
            "\n",
            "[%] Indexed 11 Images on Page 3.\n",
            "\n",
            "===============================================\n",
            "\n",
            "[%] Downloading Image #22 from http://images.nintendolife.com/screenshots/60532/large.jpg\n",
            "[%] File Downloaded !\n",
            "\n",
            "[%] Downloading Image #23 from http://i1.ytimg.com/vi/D5OUdHc3gpQ/maxresdefault.jpg\n",
            "[%] File Downloaded !\n",
            "\n",
            "[%] Downloading Image #24 from http://1.bp.blogspot.com/-NBjLSszx6RI/TWbgWSFXjhI/AAAAAAAAOjw/8W2XZpV9qFk/s1600/cully_Batmobiles_Mattel_and_Corgi_batman_toys.jpg\n",
            "[%] File Downloaded !\n",
            "\n",
            "[%] Downloading Image #25 from http://www.toyday.co.uk/shop/images/uploads/small_diecast_car.gif\n",
            "[%] File Downloaded !\n",
            "\n",
            "[%] Downloading Image #26 from http://1.bp.blogspot.com/-0RB1_yEhFEE/TxN40o2uZDI/AAAAAAAAAS4/SaMf4KIiFT8/s1600/Cars+and+Trucks-1.jpg\n",
            "[%] File Downloaded !\n",
            "\n",
            "[%] Downloading Image #27 from https://ww1.prweb.com/prfiles/2011/06/04/8531774/The Pixar Storyline 15x30.jpg\n",
            "[!] Issue getting: https://ww1.prweb.com/prfiles/2011/06/04/8531774/The Pixar Storyline 15x30.jpg\n",
            "[!] Error:: URL can't contain control characters. '/prfiles/2011/06/04/8531774/The Pixar Storyline 15x30.jpg' (found at least ' ')\n",
            "[%] Downloading Image #27 from http://i.ytimg.com/vi/Qrl9Z8TwkMI/maxresdefault.jpg\n",
            "[%] File Downloaded !\n",
            "\n",
            "[%] Downloading Image #28 from http://acimg.auctivacommerce.com/imgdata/0/1/9/3/9/7/webimg/3385474.jpg\n",
            "[%] File Downloaded !\n",
            "\n",
            "[%] Downloading Image #29 from https://www.mordeo.org/files/uploads/2019/06/Woody-In-Toy-Story-4-Animation-2019-4K-Ultra-HD-Mobile-Wallpaper.jpg\n",
            "[%] File Downloaded !\n",
            "\n",
            "[%] Downloading Image #30 from https://alqurumresort.com/img/monster-energy-monster-truck-toy.jpg\n",
            "[%] File Downloaded !\n",
            "\n",
            "\n",
            "\n",
            "[%] Done. Downloaded 30 images.\n",
            "\n",
            "===============================================\n",
            "\n"
          ],
          "name": "stdout"
        }
      ]
    },
    {
      "cell_type": "code",
      "metadata": {
        "colab": {
          "base_uri": "https://localhost:8080/"
        },
        "id": "ScRt4ad9yDIp",
        "outputId": "ad5c52f0-a204-4afa-e42b-a851e615aedd"
      },
      "source": [
        "# Preprocess\n",
        "\n",
        "import os\n",
        "import matplotlib.pyplot as plt\n",
        "import numpy as np\n",
        "from skimage.io import imread\n",
        "from skimage.transform import resize \n",
        "\n",
        "target = []\n",
        "images = []\n",
        "flat_data = []\n",
        "DATADIR = '/content/images'\n",
        "CATEGORIES = ['beautiful roses', 'badminton rackets', 'toy cars']\n",
        "\n",
        "for category in CATEGORIES:\n",
        "  class_num = CATEGORIES.index(category)\n",
        "  path = os.path.join(DATADIR, category)\n",
        "  for img in os.listdir(path):\n",
        "    img_array = imread(os.path.join(path,img))\n",
        "    #print(img_array.shape)\n",
        "    #plt.imshow(img_array)\n",
        "    img_resized = resize(img_array,(150,150,3))\n",
        "    flat_data.append(img_resized.flatten())\n",
        "    images.append(img_resized)\n",
        "    target.append(class_num)\n",
        "\n",
        "flat_data = np.array(flat_data)\n",
        "target = np.array(target)\n",
        "images = np.array(images)"
      ],
      "execution_count": 40,
      "outputs": [
        {
          "output_type": "stream",
          "text": [
            "time: 23.9 s (started: 2021-04-29 15:36:43 +00:00)\n"
          ],
          "name": "stdout"
        }
      ]
    },
    {
      "cell_type": "code",
      "metadata": {
        "colab": {
          "base_uri": "https://localhost:8080/"
        },
        "id": "xIdvd8ty-4cH",
        "outputId": "e4980efe-68e8-4c3d-be0a-166abdbc7563"
      },
      "source": [
        "len(flat_data[0])"
      ],
      "execution_count": 41,
      "outputs": [
        {
          "output_type": "execute_result",
          "data": {
            "text/plain": [
              "67500"
            ]
          },
          "metadata": {
            "tags": []
          },
          "execution_count": 41
        },
        {
          "output_type": "stream",
          "text": [
            "time: 5.83 ms (started: 2021-04-29 15:37:23 +00:00)\n"
          ],
          "name": "stdout"
        }
      ]
    },
    {
      "cell_type": "code",
      "metadata": {
        "colab": {
          "base_uri": "https://localhost:8080/"
        },
        "id": "n6FE8XXV_Pdy",
        "outputId": "e24d80e8-206f-46ce-fc8f-3c2bf65def37"
      },
      "source": [
        "150*150*3"
      ],
      "execution_count": 42,
      "outputs": [
        {
          "output_type": "execute_result",
          "data": {
            "text/plain": [
              "67500"
            ]
          },
          "metadata": {
            "tags": []
          },
          "execution_count": 42
        },
        {
          "output_type": "stream",
          "text": [
            "time: 3.6 ms (started: 2021-04-29 15:37:27 +00:00)\n"
          ],
          "name": "stdout"
        }
      ]
    },
    {
      "cell_type": "code",
      "metadata": {
        "colab": {
          "base_uri": "https://localhost:8080/"
        },
        "id": "fBALCUU__blg",
        "outputId": "1bc0eef5-6412-493f-f920-67a424bd407c"
      },
      "source": [
        "target"
      ],
      "execution_count": 43,
      "outputs": [
        {
          "output_type": "execute_result",
          "data": {
            "text/plain": [
              "array([0, 0, 0, 0, 0, 0, 0, 0, 0, 0, 0, 0, 0, 0, 0, 0, 0, 0, 0, 0, 0, 0,\n",
              "       0, 0, 0, 0, 0, 0, 0, 0, 1, 1, 1, 1, 1, 1, 1, 1, 1, 1, 1, 1, 1, 1,\n",
              "       1, 1, 1, 1, 1, 1, 1, 1, 1, 1, 1, 1, 1, 1, 1, 1, 2, 2, 2, 2, 2, 2,\n",
              "       2, 2, 2, 2, 2, 2, 2, 2, 2, 2, 2, 2, 2, 2, 2, 2, 2, 2, 2, 2, 2, 2,\n",
              "       2, 2])"
            ]
          },
          "metadata": {
            "tags": []
          },
          "execution_count": 43
        },
        {
          "output_type": "stream",
          "text": [
            "time: 4.41 ms (started: 2021-04-29 15:37:30 +00:00)\n"
          ],
          "name": "stdout"
        }
      ]
    },
    {
      "cell_type": "code",
      "metadata": {
        "colab": {
          "base_uri": "https://localhost:8080/",
          "height": 299
        },
        "id": "jgLGlrDZAlqr",
        "outputId": "b1757875-5615-485f-c731-966a7f9b247d"
      },
      "source": [
        "unique, count = np.unique(target, return_counts = True)\n",
        "plt.bar(CATEGORIES, count)"
      ],
      "execution_count": 44,
      "outputs": [
        {
          "output_type": "execute_result",
          "data": {
            "text/plain": [
              "<BarContainer object of 3 artists>"
            ]
          },
          "metadata": {
            "tags": []
          },
          "execution_count": 44
        },
        {
          "output_type": "display_data",
          "data": {
            "image/png": "[encoded data removed]",
            "text/plain": [
              "<Figure size 432x288 with 1 Axes>"
            ]
          },
          "metadata": {
            "tags": [],
            "needs_background": "light"
          }
        },
        {
          "output_type": "stream",
          "text": [
            "time: 139 ms (started: 2021-04-29 15:37:32 +00:00)\n"
          ],
          "name": "stdout"
        }
      ]
    },
    {
      "cell_type": "code",
      "metadata": {
        "colab": {
          "base_uri": "https://localhost:8080/"
        },
        "id": "LHM288OTDIhr",
        "outputId": "30023de5-6377-4d40-9e29-8dfee00dd67e"
      },
      "source": [
        "from sklearn.model_selection import train_test_split\n",
        "x_train, x_test, y_train, y_test = train_test_split(flat_data, target, test_size = 0.3, random_state = 109)"
      ],
      "execution_count": 45,
      "outputs": [
        {
          "output_type": "stream",
          "text": [
            "time: 18.3 ms (started: 2021-04-29 15:37:41 +00:00)\n"
          ],
          "name": "stdout"
        }
      ]
    },
    {
      "cell_type": "code",
      "metadata": {
        "colab": {
          "base_uri": "https://localhost:8080/"
        },
        "id": "DGsAz_pDEApJ",
        "outputId": "a98d019f-dbd1-45bb-b4a9-32d2470c1928"
      },
      "source": [
        "from sklearn.model_selection import GridSearchCV\n",
        "from sklearn import svm\n",
        "param_grid = [\n",
        "              { 'C' : [1,10,100,1000], 'kernel' : ['linear'] },\n",
        "              { 'C' : [1,10,100,1000], 'gamma': [0.001, 0.0001],'kernel' : ['rbf'] },\n",
        "]\n",
        "svc = svm.SVC(probability = True)\n",
        "clf = GridSearchCV(svc, param_grid)\n",
        "clf.fit(x_train, y_train)"
      ],
      "execution_count": 46,
      "outputs": [
        {
          "output_type": "execute_result",
          "data": {
            "text/plain": [
              "GridSearchCV(cv=None, error_score=nan,\n",
              "             estimator=SVC(C=1.0, break_ties=False, cache_size=200,\n",
              "                           class_weight=None, coef0=0.0,\n",
              "                           decision_function_shape='ovr', degree=3,\n",
              "                           gamma='scale', kernel='rbf', max_iter=-1,\n",
              "                           probability=True, random_state=None, shrinking=True,\n",
              "                           tol=0.001, verbose=False),\n",
              "             iid='deprecated', n_jobs=None,\n",
              "             param_grid=[{'C': [1, 10, 100, 1000], 'kernel': ['linear']},\n",
              "                         {'C': [1, 10, 100, 1000], 'gamma': [0.001, 0.0001],\n",
              "                          'kernel': ['rbf']}],\n",
              "             pre_dispatch='2*n_jobs', refit=True, return_train_score=False,\n",
              "             scoring=None, verbose=0)"
            ]
          },
          "metadata": {
            "tags": []
          },
          "execution_count": 46
        },
        {
          "output_type": "stream",
          "text": [
            "time: 1min 26s (started: 2021-04-29 15:37:44 +00:00)\n"
          ],
          "name": "stdout"
        }
      ]
    },
    {
      "cell_type": "code",
      "metadata": {
        "colab": {
          "base_uri": "https://localhost:8080/"
        },
        "id": "vAwAimU4IWxv",
        "outputId": "14ac5ddc-47a1-4040-91bb-0964f02739a4"
      },
      "source": [
        "y_pred = clf.predict(x_test)\n",
        "y_pred"
      ],
      "execution_count": 47,
      "outputs": [
        {
          "output_type": "execute_result",
          "data": {
            "text/plain": [
              "array([1, 0, 1, 2, 2, 1, 1, 1, 1, 1, 1, 0, 1, 2, 2, 1, 2, 0, 0, 0, 2, 2,\n",
              "       2, 0, 0, 0, 1])"
            ]
          },
          "metadata": {
            "tags": []
          },
          "execution_count": 47
        },
        {
          "output_type": "stream",
          "text": [
            "time: 113 ms (started: 2021-04-29 15:39:28 +00:00)\n"
          ],
          "name": "stdout"
        }
      ]
    },
    {
      "cell_type": "code",
      "metadata": {
        "colab": {
          "base_uri": "https://localhost:8080/"
        },
        "id": "DuakPDe6IlEW",
        "outputId": "f2edae7d-96ee-49a6-bfed-7e2613b6ad22"
      },
      "source": [
        "y_test"
      ],
      "execution_count": 48,
      "outputs": [
        {
          "output_type": "execute_result",
          "data": {
            "text/plain": [
              "array([1, 0, 1, 2, 2, 1, 0, 1, 1, 0, 1, 0, 1, 2, 2, 1, 2, 1, 0, 1, 2, 2,\n",
              "       2, 0, 0, 0, 1])"
            ]
          },
          "metadata": {
            "tags": []
          },
          "execution_count": 48
        },
        {
          "output_type": "stream",
          "text": [
            "time: 4.39 ms (started: 2021-04-29 15:39:31 +00:00)\n"
          ],
          "name": "stdout"
        }
      ]
    },
    {
      "cell_type": "code",
      "metadata": {
        "colab": {
          "base_uri": "https://localhost:8080/"
        },
        "id": "XBXns3LUInyl",
        "outputId": "65ec2a94-9263-4458-ec41-b9c2b3116c87"
      },
      "source": [
        "from sklearn.metrics import accuracy_score, confusion_matrix"
      ],
      "execution_count": 49,
      "outputs": [
        {
          "output_type": "stream",
          "text": [
            "time: 2.58 ms (started: 2021-04-29 15:39:35 +00:00)\n"
          ],
          "name": "stdout"
        }
      ]
    },
    {
      "cell_type": "code",
      "metadata": {
        "colab": {
          "base_uri": "https://localhost:8080/"
        },
        "id": "JOEosP3bI-yZ",
        "outputId": "a813da8e-b155-48e5-bf5e-b135206b72cd"
      },
      "source": [
        "accuracy_score(y_pred, y_test)"
      ],
      "execution_count": 50,
      "outputs": [
        {
          "output_type": "execute_result",
          "data": {
            "text/plain": [
              "0.8518518518518519"
            ]
          },
          "metadata": {
            "tags": []
          },
          "execution_count": 50
        },
        {
          "output_type": "stream",
          "text": [
            "time: 3.41 ms (started: 2021-04-29 15:39:38 +00:00)\n"
          ],
          "name": "stdout"
        }
      ]
    },
    {
      "cell_type": "code",
      "metadata": {
        "colab": {
          "base_uri": "https://localhost:8080/"
        },
        "id": "GEOZTYnXJIJf",
        "outputId": "c5f8421d-47c7-4395-8ed9-07aa48c09b80"
      },
      "source": [
        "confusion_matrix(y_pred, y_test)"
      ],
      "execution_count": 51,
      "outputs": [
        {
          "output_type": "execute_result",
          "data": {
            "text/plain": [
              "array([[6, 2, 0],\n",
              "       [2, 9, 0],\n",
              "       [0, 0, 8]])"
            ]
          },
          "metadata": {
            "tags": []
          },
          "execution_count": 51
        },
        {
          "output_type": "stream",
          "text": [
            "time: 6.1 ms (started: 2021-04-29 15:39:41 +00:00)\n"
          ],
          "name": "stdout"
        }
      ]
    },
    {
      "cell_type": "code",
      "metadata": {
        "colab": {
          "base_uri": "https://localhost:8080/"
        },
        "id": "2LDuSS6aJZff",
        "outputId": "5ec46d17-4ddb-4bef-c530-9cfa511570ea"
      },
      "source": [
        "import pickle\n",
        "pickle.dump(clf, open('img_model.p', 'wb'))"
      ],
      "execution_count": 52,
      "outputs": [
        {
          "output_type": "stream",
          "text": [
            "time: 27.3 ms (started: 2021-04-29 15:39:48 +00:00)\n"
          ],
          "name": "stdout"
        }
      ]
    },
    {
      "cell_type": "code",
      "metadata": {
        "colab": {
          "base_uri": "https://localhost:8080/"
        },
        "id": "q2QeaqtaKEVS",
        "outputId": "574b1ba8-1174-4e10-8638-dad030af93e8"
      },
      "source": [
        "model = pickle.load(open('img_model.p', 'rb'))"
      ],
      "execution_count": 53,
      "outputs": [
        {
          "output_type": "stream",
          "text": [
            "time: 13 ms (started: 2021-04-29 15:39:53 +00:00)\n"
          ],
          "name": "stdout"
        }
      ]
    },
    {
      "cell_type": "code",
      "metadata": {
        "colab": {
          "base_uri": "https://localhost:8080/",
          "height": 337
        },
        "id": "PTr9d6vvKQ9Z",
        "outputId": "30e0befe-00ab-4f53-922d-94b92d1beb87"
      },
      "source": [
        "flat_data = []\n",
        "url = input('Enter the url')\n",
        "img = \n",
        "imread(url)\n",
        "img_resized = resize(img,(150,150,3))\n",
        "flat_data.append(img_resized.flatten())\n",
        "flat_data = np.array(flat_data)\n",
        "print(img.shape)\n",
        "plt.imshow(img_resized)\n",
        "y_out = model.predict(flat_data)\n",
        "y_out = CATEGORIES[y_out[0]]\n",
        "print(f' PREDICTED OUTPUT : {y_out}')"
      ],
      "execution_count": 59,
      "outputs": [
        {
          "output_type": "stream",
          "text": [
            "Enter the urlhttps://i.ytimg.com/vi/VVjFEdP8Xc4/maxresdefault.jpg\n",
            "(720, 1280, 3)\n",
            " PREDICTED OUTPUT : toy cars\n"
          ],
          "name": "stdout"
        },
        {
          "output_type": "display_data",
          "data": {
            "image/png": "[encoded data removed]",
            "text/plain": [
              "<Figure size 432x288 with 1 Axes>"
            ]
          },
          "metadata": {
            "tags": [],
            "needs_background": "light"
          }
        },
        {
          "output_type": "stream",
          "text": [
            "time: 10.9 s (started: 2021-04-29 15:44:28 +00:00)\n"
          ],
          "name": "stdout"
        }
      ]
    }
  ]
}